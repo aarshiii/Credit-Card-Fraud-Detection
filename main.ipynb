{
  "metadata": {
    "kernelspec": {
      "name": "python",
      "display_name": "Python (Pyodide)",
      "language": "python"
    },
    "language_info": {
      "codemirror_mode": {
        "name": "python",
        "version": 3
      },
      "file_extension": ".py",
      "mimetype": "text/x-python",
      "name": "python",
      "nbconvert_exporter": "python",
      "pygments_lexer": "ipython3",
      "version": "3.8"
    }
  },
  "nbformat_minor": 4,
  "nbformat": 4,
  "cells": [
    {
      "cell_type": "code",
      "source": "import numpy as np\nimport pandas as pd\nfrom sklearn.model_selection import train_test_split\nfrom sklearn.linear_model import LogisticRegression\nfrom sklearn.metrics import accuracy_score",
      "metadata": {
        "trusted": true
      },
      "outputs": [],
      "execution_count": 1
    },
    {
      "cell_type": "code",
      "source": "# loading the dataset to a Pandas DataFrame\ncredit_card_data = pd.read_csv('creditcard.csv')",
      "metadata": {
        "trusted": true
      },
      "outputs": [],
      "execution_count": 3
    },
    {
      "cell_type": "code",
      "source": "# first 5 rows of the dataset\ncredit_card_data.head()",
      "metadata": {
        "trusted": true
      },
      "outputs": [
        {
          "execution_count": 4,
          "output_type": "execute_result",
          "data": {
            "text/plain": "   Time        V1        V2        V3        V4        V5        V6        V7  \\\n0     0 -1.359807 -0.072781  2.536347  1.378155 -0.338321  0.462388  0.239599   \n1     0  1.191857  0.266151  0.166480  0.448154  0.060018 -0.082361 -0.078803   \n2     1 -1.358354 -1.340163  1.773209  0.379780 -0.503198  1.800499  0.791461   \n3     1 -0.966272 -0.185226  1.792993 -0.863291 -0.010309  1.247203  0.237609   \n4     2 -1.158233  0.877737  1.548718  0.403034 -0.407193  0.095921  0.592941   \n\n         V8        V9  ...       V21       V22       V23       V24       V25  \\\n0  0.098698  0.363787  ... -0.018307  0.277838 -0.110474  0.066928  0.128539   \n1  0.085102 -0.255425  ... -0.225775 -0.638672  0.101288 -0.339846  0.167170   \n2  0.247676 -1.514654  ...  0.247998  0.771679  0.909412 -0.689281 -0.327642   \n3  0.377436 -1.387024  ... -0.108300  0.005274 -0.190321 -1.175575  0.647376   \n4 -0.270533  0.817739  ... -0.009431  0.798278 -0.137458  0.141267 -0.206010   \n\n        V26       V27       V28  Amount  Class  \n0 -0.189115  0.133558 -0.021053  149.62    0.0  \n1  0.125895 -0.008983  0.014724    2.69    0.0  \n2 -0.139097 -0.055353 -0.059752  378.66    0.0  \n3 -0.221929  0.062723  0.061458  123.50    0.0  \n4  0.502292  0.219422  0.215153   69.99    0.0  \n\n[5 rows x 31 columns]",
            "text/html": "<div>\n<style scoped>\n    .dataframe tbody tr th:only-of-type {\n        vertical-align: middle;\n    }\n\n    .dataframe tbody tr th {\n        vertical-align: top;\n    }\n\n    .dataframe thead th {\n        text-align: right;\n    }\n</style>\n<table border=\"1\" class=\"dataframe\">\n  <thead>\n    <tr style=\"text-align: right;\">\n      <th></th>\n      <th>Time</th>\n      <th>V1</th>\n      <th>V2</th>\n      <th>V3</th>\n      <th>V4</th>\n      <th>V5</th>\n      <th>V6</th>\n      <th>V7</th>\n      <th>V8</th>\n      <th>V9</th>\n      <th>...</th>\n      <th>V21</th>\n      <th>V22</th>\n      <th>V23</th>\n      <th>V24</th>\n      <th>V25</th>\n      <th>V26</th>\n      <th>V27</th>\n      <th>V28</th>\n      <th>Amount</th>\n      <th>Class</th>\n    </tr>\n  </thead>\n  <tbody>\n    <tr>\n      <th>0</th>\n      <td>0</td>\n      <td>-1.359807</td>\n      <td>-0.072781</td>\n      <td>2.536347</td>\n      <td>1.378155</td>\n      <td>-0.338321</td>\n      <td>0.462388</td>\n      <td>0.239599</td>\n      <td>0.098698</td>\n      <td>0.363787</td>\n      <td>...</td>\n      <td>-0.018307</td>\n      <td>0.277838</td>\n      <td>-0.110474</td>\n      <td>0.066928</td>\n      <td>0.128539</td>\n      <td>-0.189115</td>\n      <td>0.133558</td>\n      <td>-0.021053</td>\n      <td>149.62</td>\n      <td>0.0</td>\n    </tr>\n    <tr>\n      <th>1</th>\n      <td>0</td>\n      <td>1.191857</td>\n      <td>0.266151</td>\n      <td>0.166480</td>\n      <td>0.448154</td>\n      <td>0.060018</td>\n      <td>-0.082361</td>\n      <td>-0.078803</td>\n      <td>0.085102</td>\n      <td>-0.255425</td>\n      <td>...</td>\n      <td>-0.225775</td>\n      <td>-0.638672</td>\n      <td>0.101288</td>\n      <td>-0.339846</td>\n      <td>0.167170</td>\n      <td>0.125895</td>\n      <td>-0.008983</td>\n      <td>0.014724</td>\n      <td>2.69</td>\n      <td>0.0</td>\n    </tr>\n    <tr>\n      <th>2</th>\n      <td>1</td>\n      <td>-1.358354</td>\n      <td>-1.340163</td>\n      <td>1.773209</td>\n      <td>0.379780</td>\n      <td>-0.503198</td>\n      <td>1.800499</td>\n      <td>0.791461</td>\n      <td>0.247676</td>\n      <td>-1.514654</td>\n      <td>...</td>\n      <td>0.247998</td>\n      <td>0.771679</td>\n      <td>0.909412</td>\n      <td>-0.689281</td>\n      <td>-0.327642</td>\n      <td>-0.139097</td>\n      <td>-0.055353</td>\n      <td>-0.059752</td>\n      <td>378.66</td>\n      <td>0.0</td>\n    </tr>\n    <tr>\n      <th>3</th>\n      <td>1</td>\n      <td>-0.966272</td>\n      <td>-0.185226</td>\n      <td>1.792993</td>\n      <td>-0.863291</td>\n      <td>-0.010309</td>\n      <td>1.247203</td>\n      <td>0.237609</td>\n      <td>0.377436</td>\n      <td>-1.387024</td>\n      <td>...</td>\n      <td>-0.108300</td>\n      <td>0.005274</td>\n      <td>-0.190321</td>\n      <td>-1.175575</td>\n      <td>0.647376</td>\n      <td>-0.221929</td>\n      <td>0.062723</td>\n      <td>0.061458</td>\n      <td>123.50</td>\n      <td>0.0</td>\n    </tr>\n    <tr>\n      <th>4</th>\n      <td>2</td>\n      <td>-1.158233</td>\n      <td>0.877737</td>\n      <td>1.548718</td>\n      <td>0.403034</td>\n      <td>-0.407193</td>\n      <td>0.095921</td>\n      <td>0.592941</td>\n      <td>-0.270533</td>\n      <td>0.817739</td>\n      <td>...</td>\n      <td>-0.009431</td>\n      <td>0.798278</td>\n      <td>-0.137458</td>\n      <td>0.141267</td>\n      <td>-0.206010</td>\n      <td>0.502292</td>\n      <td>0.219422</td>\n      <td>0.215153</td>\n      <td>69.99</td>\n      <td>0.0</td>\n    </tr>\n  </tbody>\n</table>\n<p>5 rows × 31 columns</p>\n</div>"
          },
          "metadata": {}
        }
      ],
      "execution_count": 4
    },
    {
      "cell_type": "code",
      "source": "# dataset information\ncredit_card_data.info()",
      "metadata": {
        "trusted": true
      },
      "outputs": [
        {
          "name": "stdout",
          "text": "<class 'pandas.core.frame.DataFrame'>\nRangeIndex: 67434 entries, 0 to 67433\nData columns (total 31 columns):\n #   Column  Non-Null Count  Dtype  \n---  ------  --------------  -----  \n 0   Time    67434 non-null  int64  \n 1   V1      67434 non-null  float64\n 2   V2      67434 non-null  float64\n 3   V3      67434 non-null  float64\n 4   V4      67434 non-null  float64\n 5   V5      67434 non-null  float64\n 6   V6      67434 non-null  float64\n 7   V7      67434 non-null  float64\n 8   V8      67434 non-null  float64\n 9   V9      67434 non-null  float64\n 10  V10     67434 non-null  float64\n 11  V11     67434 non-null  float64\n 12  V12     67434 non-null  float64\n 13  V13     67434 non-null  float64\n 14  V14     67434 non-null  float64\n 15  V15     67434 non-null  float64\n 16  V16     67434 non-null  float64\n 17  V17     67434 non-null  float64\n 18  V18     67434 non-null  float64\n 19  V19     67434 non-null  float64\n 20  V20     67434 non-null  float64\n 21  V21     67433 non-null  float64\n 22  V22     67433 non-null  float64\n 23  V23     67433 non-null  float64\n 24  V24     67433 non-null  float64\n 25  V25     67433 non-null  float64\n 26  V26     67433 non-null  float64\n 27  V27     67433 non-null  float64\n 28  V28     67433 non-null  float64\n 29  Amount  67433 non-null  float64\n 30  Class   67433 non-null  float64\ndtypes: float64(30), int64(1)\nmemory usage: 15.9 MB\n",
          "output_type": "stream"
        }
      ],
      "execution_count": 5
    },
    {
      "cell_type": "code",
      "source": "# checking the number of missing values in each column\ncredit_card_data.isnull().sum()",
      "metadata": {
        "trusted": true
      },
      "outputs": [
        {
          "execution_count": 6,
          "output_type": "execute_result",
          "data": {
            "text/plain": "Time      0\nV1        0\nV2        0\nV3        0\nV4        0\nV5        0\nV6        0\nV7        0\nV8        0\nV9        0\nV10       0\nV11       0\nV12       0\nV13       0\nV14       0\nV15       0\nV16       0\nV17       0\nV18       0\nV19       0\nV20       0\nV21       1\nV22       1\nV23       1\nV24       1\nV25       1\nV26       1\nV27       1\nV28       1\nAmount    1\nClass     1\ndtype: int64"
          },
          "metadata": {}
        }
      ],
      "execution_count": 6
    },
    {
      "cell_type": "code",
      "source": "# distribution of legit transactions & fraudulent transactions\ncredit_card_data['Class'].value_counts()",
      "metadata": {
        "trusted": true
      },
      "outputs": [
        {
          "execution_count": 7,
          "output_type": "execute_result",
          "data": {
            "text/plain": "0.0    67264\n1.0      169\nName: Class, dtype: int64"
          },
          "metadata": {}
        }
      ],
      "execution_count": 7
    },
    {
      "cell_type": "code",
      "source": "# separating the data for analysis\nlegit = credit_card_data[credit_card_data.Class == 0]\nfraud = credit_card_data[credit_card_data.Class == 1]",
      "metadata": {
        "trusted": true
      },
      "outputs": [],
      "execution_count": 8
    },
    {
      "cell_type": "code",
      "source": "print(legit.shape)\nprint(fraud.shape)",
      "metadata": {
        "trusted": true
      },
      "outputs": [
        {
          "name": "stdout",
          "text": "(67264, 31)\n(169, 31)\n",
          "output_type": "stream"
        }
      ],
      "execution_count": 9
    },
    {
      "cell_type": "code",
      "source": "# statistical measures of the data\nlegit.Amount.describe()",
      "metadata": {
        "trusted": true
      },
      "outputs": [
        {
          "execution_count": 10,
          "output_type": "execute_result",
          "data": {
            "text/plain": "count    67264.000000\nmean        96.632489\nstd        270.008302\nmin          0.000000\n25%          7.680000\n50%         26.380000\n75%         88.360000\nmax      19656.530000\nName: Amount, dtype: float64"
          },
          "metadata": {}
        }
      ],
      "execution_count": 10
    },
    {
      "cell_type": "code",
      "source": "fraud.Amount.describe()",
      "metadata": {
        "trusted": true
      },
      "outputs": [
        {
          "execution_count": 11,
          "output_type": "execute_result",
          "data": {
            "text/plain": "count     169.000000\nmean       94.895680\nstd       220.959331\nmin         0.000000\n25%         1.000000\n50%         7.610000\n75%        99.990000\nmax      1809.680000\nName: Amount, dtype: float64"
          },
          "metadata": {}
        }
      ],
      "execution_count": 11
    },
    {
      "cell_type": "code",
      "source": "# compare the values for both transactions\ncredit_card_data.groupby('Class').mean()",
      "metadata": {
        "trusted": true
      },
      "outputs": [
        {
          "execution_count": 12,
          "output_type": "execute_result",
          "data": {
            "text/plain": "               Time        V1        V2        V3        V4        V5  \\\nClass                                                                   \n0.0    33987.964275 -0.224397 -0.031225  0.709220  0.156146 -0.256028   \n1.0    29493.242604 -7.106029  5.115846 -9.566072  5.470948 -5.263861   \n\n             V6        V7        V8        V9  ...       V20       V21  \\\nClass                                          ...                       \n0.0    0.107483 -0.096094  0.048974  0.038459  ...  0.046365 -0.030766   \n1.0   -2.172211 -7.412550  3.501007 -3.298551  ...  0.431494  0.850670   \n\n            V22       V23       V24       V25       V26       V27       V28  \\\nClass                                                                         \n0.0   -0.106221 -0.038280  0.005830  0.136332  0.020505  0.001370  0.003425   \n1.0   -0.212903 -0.255225 -0.075295  0.245601  0.107931  0.576249  0.041284   \n\n          Amount  \nClass             \n0.0    96.632489  \n1.0    94.895680  \n\n[2 rows x 30 columns]",
            "text/html": "<div>\n<style scoped>\n    .dataframe tbody tr th:only-of-type {\n        vertical-align: middle;\n    }\n\n    .dataframe tbody tr th {\n        vertical-align: top;\n    }\n\n    .dataframe thead th {\n        text-align: right;\n    }\n</style>\n<table border=\"1\" class=\"dataframe\">\n  <thead>\n    <tr style=\"text-align: right;\">\n      <th></th>\n      <th>Time</th>\n      <th>V1</th>\n      <th>V2</th>\n      <th>V3</th>\n      <th>V4</th>\n      <th>V5</th>\n      <th>V6</th>\n      <th>V7</th>\n      <th>V8</th>\n      <th>V9</th>\n      <th>...</th>\n      <th>V20</th>\n      <th>V21</th>\n      <th>V22</th>\n      <th>V23</th>\n      <th>V24</th>\n      <th>V25</th>\n      <th>V26</th>\n      <th>V27</th>\n      <th>V28</th>\n      <th>Amount</th>\n    </tr>\n    <tr>\n      <th>Class</th>\n      <th></th>\n      <th></th>\n      <th></th>\n      <th></th>\n      <th></th>\n      <th></th>\n      <th></th>\n      <th></th>\n      <th></th>\n      <th></th>\n      <th></th>\n      <th></th>\n      <th></th>\n      <th></th>\n      <th></th>\n      <th></th>\n      <th></th>\n      <th></th>\n      <th></th>\n      <th></th>\n      <th></th>\n    </tr>\n  </thead>\n  <tbody>\n    <tr>\n      <th>0.0</th>\n      <td>33987.964275</td>\n      <td>-0.224397</td>\n      <td>-0.031225</td>\n      <td>0.709220</td>\n      <td>0.156146</td>\n      <td>-0.256028</td>\n      <td>0.107483</td>\n      <td>-0.096094</td>\n      <td>0.048974</td>\n      <td>0.038459</td>\n      <td>...</td>\n      <td>0.046365</td>\n      <td>-0.030766</td>\n      <td>-0.106221</td>\n      <td>-0.038280</td>\n      <td>0.005830</td>\n      <td>0.136332</td>\n      <td>0.020505</td>\n      <td>0.001370</td>\n      <td>0.003425</td>\n      <td>96.632489</td>\n    </tr>\n    <tr>\n      <th>1.0</th>\n      <td>29493.242604</td>\n      <td>-7.106029</td>\n      <td>5.115846</td>\n      <td>-9.566072</td>\n      <td>5.470948</td>\n      <td>-5.263861</td>\n      <td>-2.172211</td>\n      <td>-7.412550</td>\n      <td>3.501007</td>\n      <td>-3.298551</td>\n      <td>...</td>\n      <td>0.431494</td>\n      <td>0.850670</td>\n      <td>-0.212903</td>\n      <td>-0.255225</td>\n      <td>-0.075295</td>\n      <td>0.245601</td>\n      <td>0.107931</td>\n      <td>0.576249</td>\n      <td>0.041284</td>\n      <td>94.895680</td>\n    </tr>\n  </tbody>\n</table>\n<p>2 rows × 30 columns</p>\n</div>"
          },
          "metadata": {}
        }
      ],
      "execution_count": 12
    },
    {
      "cell_type": "code",
      "source": "legit_sample = legit.sample(n=492)",
      "metadata": {
        "trusted": true
      },
      "outputs": [],
      "execution_count": 13
    },
    {
      "cell_type": "code",
      "source": "new_dataset = pd.concat([legit_sample, fraud], axis=0)",
      "metadata": {
        "trusted": true
      },
      "outputs": [],
      "execution_count": 14
    },
    {
      "cell_type": "code",
      "source": "new_dataset.head()",
      "metadata": {
        "trusted": true
      },
      "outputs": [
        {
          "execution_count": 15,
          "output_type": "execute_result",
          "data": {
            "text/plain": "        Time        V1        V2        V3        V4        V5        V6  \\\n34344  37622  1.141756  0.312076  0.059018  1.091915  0.082302 -0.575561   \n63488  50738  0.134230 -1.563840 -0.466219  1.543372 -0.528855  0.057617   \n54000  46247  0.830788 -0.359810  1.589701  2.882987 -0.639243  1.865738   \n22743  32410  0.453889 -0.593772 -0.992512 -3.223955  1.022347  3.661130   \n36715  38657  0.938707 -0.073768  1.262434  2.711881 -0.694834  0.406251   \n\n             V7        V8        V9  ...       V21       V22       V23  \\\n34344  0.401762 -0.199828 -0.249737  ...  0.028611  0.113006 -0.106819   \n63488  0.742868 -0.135197  0.061989  ...  0.398943 -0.081707 -0.630585   \n54000 -0.923111  0.742765  0.580848  ... -0.173791 -0.230540  0.040835   \n22743 -2.344529 -1.829875 -2.364655  ... -1.528485 -0.212184  0.050339   \n36715 -0.391960  0.136842  0.061780  ... -0.038799 -0.186149 -0.100430   \n\n            V24       V25       V26       V27       V28  Amount  Class  \n34344  0.086047  0.666418 -0.334093  0.017625  0.021251   41.43    0.0  \n63488 -0.413562  0.434943 -0.277576 -0.077364  0.110274  569.00    0.0  \n54000 -0.300599  0.181489 -0.020803  0.072527  0.024515   65.22    0.0  \n22743  0.954884  0.845327 -0.313523  0.024065  0.140232   10.00    0.0  \n36715  0.043335  0.318809 -0.034418  0.024230  0.052159  110.33    0.0  \n\n[5 rows x 31 columns]",
            "text/html": "<div>\n<style scoped>\n    .dataframe tbody tr th:only-of-type {\n        vertical-align: middle;\n    }\n\n    .dataframe tbody tr th {\n        vertical-align: top;\n    }\n\n    .dataframe thead th {\n        text-align: right;\n    }\n</style>\n<table border=\"1\" class=\"dataframe\">\n  <thead>\n    <tr style=\"text-align: right;\">\n      <th></th>\n      <th>Time</th>\n      <th>V1</th>\n      <th>V2</th>\n      <th>V3</th>\n      <th>V4</th>\n      <th>V5</th>\n      <th>V6</th>\n      <th>V7</th>\n      <th>V8</th>\n      <th>V9</th>\n      <th>...</th>\n      <th>V21</th>\n      <th>V22</th>\n      <th>V23</th>\n      <th>V24</th>\n      <th>V25</th>\n      <th>V26</th>\n      <th>V27</th>\n      <th>V28</th>\n      <th>Amount</th>\n      <th>Class</th>\n    </tr>\n  </thead>\n  <tbody>\n    <tr>\n      <th>34344</th>\n      <td>37622</td>\n      <td>1.141756</td>\n      <td>0.312076</td>\n      <td>0.059018</td>\n      <td>1.091915</td>\n      <td>0.082302</td>\n      <td>-0.575561</td>\n      <td>0.401762</td>\n      <td>-0.199828</td>\n      <td>-0.249737</td>\n      <td>...</td>\n      <td>0.028611</td>\n      <td>0.113006</td>\n      <td>-0.106819</td>\n      <td>0.086047</td>\n      <td>0.666418</td>\n      <td>-0.334093</td>\n      <td>0.017625</td>\n      <td>0.021251</td>\n      <td>41.43</td>\n      <td>0.0</td>\n    </tr>\n    <tr>\n      <th>63488</th>\n      <td>50738</td>\n      <td>0.134230</td>\n      <td>-1.563840</td>\n      <td>-0.466219</td>\n      <td>1.543372</td>\n      <td>-0.528855</td>\n      <td>0.057617</td>\n      <td>0.742868</td>\n      <td>-0.135197</td>\n      <td>0.061989</td>\n      <td>...</td>\n      <td>0.398943</td>\n      <td>-0.081707</td>\n      <td>-0.630585</td>\n      <td>-0.413562</td>\n      <td>0.434943</td>\n      <td>-0.277576</td>\n      <td>-0.077364</td>\n      <td>0.110274</td>\n      <td>569.00</td>\n      <td>0.0</td>\n    </tr>\n    <tr>\n      <th>54000</th>\n      <td>46247</td>\n      <td>0.830788</td>\n      <td>-0.359810</td>\n      <td>1.589701</td>\n      <td>2.882987</td>\n      <td>-0.639243</td>\n      <td>1.865738</td>\n      <td>-0.923111</td>\n      <td>0.742765</td>\n      <td>0.580848</td>\n      <td>...</td>\n      <td>-0.173791</td>\n      <td>-0.230540</td>\n      <td>0.040835</td>\n      <td>-0.300599</td>\n      <td>0.181489</td>\n      <td>-0.020803</td>\n      <td>0.072527</td>\n      <td>0.024515</td>\n      <td>65.22</td>\n      <td>0.0</td>\n    </tr>\n    <tr>\n      <th>22743</th>\n      <td>32410</td>\n      <td>0.453889</td>\n      <td>-0.593772</td>\n      <td>-0.992512</td>\n      <td>-3.223955</td>\n      <td>1.022347</td>\n      <td>3.661130</td>\n      <td>-2.344529</td>\n      <td>-1.829875</td>\n      <td>-2.364655</td>\n      <td>...</td>\n      <td>-1.528485</td>\n      <td>-0.212184</td>\n      <td>0.050339</td>\n      <td>0.954884</td>\n      <td>0.845327</td>\n      <td>-0.313523</td>\n      <td>0.024065</td>\n      <td>0.140232</td>\n      <td>10.00</td>\n      <td>0.0</td>\n    </tr>\n    <tr>\n      <th>36715</th>\n      <td>38657</td>\n      <td>0.938707</td>\n      <td>-0.073768</td>\n      <td>1.262434</td>\n      <td>2.711881</td>\n      <td>-0.694834</td>\n      <td>0.406251</td>\n      <td>-0.391960</td>\n      <td>0.136842</td>\n      <td>0.061780</td>\n      <td>...</td>\n      <td>-0.038799</td>\n      <td>-0.186149</td>\n      <td>-0.100430</td>\n      <td>0.043335</td>\n      <td>0.318809</td>\n      <td>-0.034418</td>\n      <td>0.024230</td>\n      <td>0.052159</td>\n      <td>110.33</td>\n      <td>0.0</td>\n    </tr>\n  </tbody>\n</table>\n<p>5 rows × 31 columns</p>\n</div>"
          },
          "metadata": {}
        }
      ],
      "execution_count": 15
    },
    {
      "cell_type": "code",
      "source": "new_dataset['Class'].value_counts()",
      "metadata": {
        "trusted": true
      },
      "outputs": [
        {
          "execution_count": 16,
          "output_type": "execute_result",
          "data": {
            "text/plain": "0.0    492\n1.0    169\nName: Class, dtype: int64"
          },
          "metadata": {}
        }
      ],
      "execution_count": 16
    },
    {
      "cell_type": "code",
      "source": "new_dataset.groupby('Class').mean()",
      "metadata": {
        "trusted": true
      },
      "outputs": [
        {
          "execution_count": 17,
          "output_type": "execute_result",
          "data": {
            "text/plain": "               Time        V1        V2        V3        V4        V5  \\\nClass                                                                   \n0.0    34041.349593 -0.181951  0.045215  0.741009  0.218659 -0.207039   \n1.0    29493.242604 -7.106029  5.115846 -9.566072  5.470948 -5.263861   \n\n             V6        V7        V8        V9  ...       V20       V21  \\\nClass                                          ...                       \n0.0    0.104469 -0.087787  0.028534  0.036101  ...  0.052387  0.018976   \n1.0   -2.172211 -7.412550  3.501007 -3.298551  ...  0.431494  0.850670   \n\n            V22       V23       V24       V25       V26       V27       V28  \\\nClass                                                                         \n0.0   -0.088715 -0.022758  0.029362  0.122287  0.054165  0.000853  0.004280   \n1.0   -0.212903 -0.255225 -0.075295  0.245601  0.107931  0.576249  0.041284   \n\n          Amount  \nClass             \n0.0    84.672927  \n1.0    94.895680  \n\n[2 rows x 30 columns]",
            "text/html": "<div>\n<style scoped>\n    .dataframe tbody tr th:only-of-type {\n        vertical-align: middle;\n    }\n\n    .dataframe tbody tr th {\n        vertical-align: top;\n    }\n\n    .dataframe thead th {\n        text-align: right;\n    }\n</style>\n<table border=\"1\" class=\"dataframe\">\n  <thead>\n    <tr style=\"text-align: right;\">\n      <th></th>\n      <th>Time</th>\n      <th>V1</th>\n      <th>V2</th>\n      <th>V3</th>\n      <th>V4</th>\n      <th>V5</th>\n      <th>V6</th>\n      <th>V7</th>\n      <th>V8</th>\n      <th>V9</th>\n      <th>...</th>\n      <th>V20</th>\n      <th>V21</th>\n      <th>V22</th>\n      <th>V23</th>\n      <th>V24</th>\n      <th>V25</th>\n      <th>V26</th>\n      <th>V27</th>\n      <th>V28</th>\n      <th>Amount</th>\n    </tr>\n    <tr>\n      <th>Class</th>\n      <th></th>\n      <th></th>\n      <th></th>\n      <th></th>\n      <th></th>\n      <th></th>\n      <th></th>\n      <th></th>\n      <th></th>\n      <th></th>\n      <th></th>\n      <th></th>\n      <th></th>\n      <th></th>\n      <th></th>\n      <th></th>\n      <th></th>\n      <th></th>\n      <th></th>\n      <th></th>\n      <th></th>\n    </tr>\n  </thead>\n  <tbody>\n    <tr>\n      <th>0.0</th>\n      <td>34041.349593</td>\n      <td>-0.181951</td>\n      <td>0.045215</td>\n      <td>0.741009</td>\n      <td>0.218659</td>\n      <td>-0.207039</td>\n      <td>0.104469</td>\n      <td>-0.087787</td>\n      <td>0.028534</td>\n      <td>0.036101</td>\n      <td>...</td>\n      <td>0.052387</td>\n      <td>0.018976</td>\n      <td>-0.088715</td>\n      <td>-0.022758</td>\n      <td>0.029362</td>\n      <td>0.122287</td>\n      <td>0.054165</td>\n      <td>0.000853</td>\n      <td>0.004280</td>\n      <td>84.672927</td>\n    </tr>\n    <tr>\n      <th>1.0</th>\n      <td>29493.242604</td>\n      <td>-7.106029</td>\n      <td>5.115846</td>\n      <td>-9.566072</td>\n      <td>5.470948</td>\n      <td>-5.263861</td>\n      <td>-2.172211</td>\n      <td>-7.412550</td>\n      <td>3.501007</td>\n      <td>-3.298551</td>\n      <td>...</td>\n      <td>0.431494</td>\n      <td>0.850670</td>\n      <td>-0.212903</td>\n      <td>-0.255225</td>\n      <td>-0.075295</td>\n      <td>0.245601</td>\n      <td>0.107931</td>\n      <td>0.576249</td>\n      <td>0.041284</td>\n      <td>94.895680</td>\n    </tr>\n  </tbody>\n</table>\n<p>2 rows × 30 columns</p>\n</div>"
          },
          "metadata": {}
        }
      ],
      "execution_count": 17
    },
    {
      "cell_type": "code",
      "source": "# Splitting the data into Features and Target\nX = new_dataset.drop(columns='Class', axis=1)\nY = new_dataset['Class']",
      "metadata": {
        "trusted": true
      },
      "outputs": [],
      "execution_count": 18
    },
    {
      "cell_type": "code",
      "source": "X",
      "metadata": {
        "trusted": true
      },
      "outputs": [
        {
          "execution_count": 19,
          "output_type": "execute_result",
          "data": {
            "text/plain": "        Time         V1        V2         V3        V4        V5        V6  \\\n34344  37622   1.141756  0.312076   0.059018  1.091915  0.082302 -0.575561   \n63488  50738   0.134230 -1.563840  -0.466219  1.543372 -0.528855  0.057617   \n54000  46247   0.830788 -0.359810   1.589701  2.882987 -0.639243  1.865738   \n22743  32410   0.453889 -0.593772  -0.992512 -3.223955  1.022347  3.661130   \n36715  38657   0.938707 -0.073768   1.262434  2.711881 -0.694834  0.406251   \n...      ...        ...       ...        ...       ...       ...       ...   \n63421  50706  -8.461845  6.866198 -11.838269  4.194211 -6.923097 -3.221147   \n63634  50808  -9.169790  7.092197 -12.354037  4.243069 -7.176438 -3.386618   \n64329  51112  -9.848776  7.365546 -12.898538  4.273323 -7.611991 -3.427045   \n64411  51135 -10.527304  7.639745 -13.443115  4.303403 -8.048210 -3.466997   \n64460  51155 -11.205461  7.914633 -13.987752  4.333341 -8.484970 -3.506561   \n\n             V7        V8        V9  ...       V20       V21       V22  \\\n34344  0.401762 -0.199828 -0.249737  ... -0.060040  0.028611  0.113006   \n63488  0.742868 -0.135197  0.061989  ...  0.945239  0.398943 -0.081707   \n54000 -0.923111  0.742765  0.580848  ... -0.179643 -0.173791 -0.230540   \n22743 -2.344529 -1.829875 -2.364655  ...  0.348539 -1.528485 -0.212184   \n36715 -0.391960  0.136842  0.061780  ...  0.098018 -0.038799 -0.186149   \n...         ...       ...       ...  ...       ...       ...       ...   \n63421 -7.553497  6.015618 -2.466143  ...  0.814710  0.918244 -0.715366   \n63634 -8.058012  6.442909 -2.412987  ...  0.816652  0.926157 -0.817706   \n64329 -8.350808  6.863604 -2.387567  ...  0.832398  0.931958 -0.874467   \n64411 -8.643193  7.284105 -2.362097  ...  0.847085  0.937416 -0.931178   \n64460 -8.935243  7.704449 -2.336584  ...  0.860912  0.942593 -0.987848   \n\n            V23       V24       V25       V26       V27       V28  Amount  \n34344 -0.106819  0.086047  0.666418 -0.334093  0.017625  0.021251   41.43  \n63488 -0.630585 -0.413562  0.434943 -0.277576 -0.077364  0.110274  569.00  \n54000  0.040835 -0.300599  0.181489 -0.020803  0.072527  0.024515   65.22  \n22743  0.050339  0.954884  0.845327 -0.313523  0.024065  0.140232   10.00  \n36715 -0.100430  0.043335  0.318809 -0.034418  0.024230  0.052159  110.33  \n...         ...       ...       ...       ...       ...       ...     ...  \n63421  0.210747 -0.060211  0.509535 -0.257284  1.170027  0.229301   99.99  \n63634 -0.150434 -0.039383  0.485640 -0.264325  1.159690  0.232758   99.99  \n64329 -0.192639 -0.035426  0.538665 -0.263934  1.134095  0.225973   99.99  \n64411 -0.235697 -0.031393  0.591558 -0.263516  1.108897  0.219021   99.99  \n64460 -0.279446 -0.027299  0.644344 -0.263078  1.084023  0.211933   99.99  \n\n[661 rows x 30 columns]",
            "text/html": "<div>\n<style scoped>\n    .dataframe tbody tr th:only-of-type {\n        vertical-align: middle;\n    }\n\n    .dataframe tbody tr th {\n        vertical-align: top;\n    }\n\n    .dataframe thead th {\n        text-align: right;\n    }\n</style>\n<table border=\"1\" class=\"dataframe\">\n  <thead>\n    <tr style=\"text-align: right;\">\n      <th></th>\n      <th>Time</th>\n      <th>V1</th>\n      <th>V2</th>\n      <th>V3</th>\n      <th>V4</th>\n      <th>V5</th>\n      <th>V6</th>\n      <th>V7</th>\n      <th>V8</th>\n      <th>V9</th>\n      <th>...</th>\n      <th>V20</th>\n      <th>V21</th>\n      <th>V22</th>\n      <th>V23</th>\n      <th>V24</th>\n      <th>V25</th>\n      <th>V26</th>\n      <th>V27</th>\n      <th>V28</th>\n      <th>Amount</th>\n    </tr>\n  </thead>\n  <tbody>\n    <tr>\n      <th>34344</th>\n      <td>37622</td>\n      <td>1.141756</td>\n      <td>0.312076</td>\n      <td>0.059018</td>\n      <td>1.091915</td>\n      <td>0.082302</td>\n      <td>-0.575561</td>\n      <td>0.401762</td>\n      <td>-0.199828</td>\n      <td>-0.249737</td>\n      <td>...</td>\n      <td>-0.060040</td>\n      <td>0.028611</td>\n      <td>0.113006</td>\n      <td>-0.106819</td>\n      <td>0.086047</td>\n      <td>0.666418</td>\n      <td>-0.334093</td>\n      <td>0.017625</td>\n      <td>0.021251</td>\n      <td>41.43</td>\n    </tr>\n    <tr>\n      <th>63488</th>\n      <td>50738</td>\n      <td>0.134230</td>\n      <td>-1.563840</td>\n      <td>-0.466219</td>\n      <td>1.543372</td>\n      <td>-0.528855</td>\n      <td>0.057617</td>\n      <td>0.742868</td>\n      <td>-0.135197</td>\n      <td>0.061989</td>\n      <td>...</td>\n      <td>0.945239</td>\n      <td>0.398943</td>\n      <td>-0.081707</td>\n      <td>-0.630585</td>\n      <td>-0.413562</td>\n      <td>0.434943</td>\n      <td>-0.277576</td>\n      <td>-0.077364</td>\n      <td>0.110274</td>\n      <td>569.00</td>\n    </tr>\n    <tr>\n      <th>54000</th>\n      <td>46247</td>\n      <td>0.830788</td>\n      <td>-0.359810</td>\n      <td>1.589701</td>\n      <td>2.882987</td>\n      <td>-0.639243</td>\n      <td>1.865738</td>\n      <td>-0.923111</td>\n      <td>0.742765</td>\n      <td>0.580848</td>\n      <td>...</td>\n      <td>-0.179643</td>\n      <td>-0.173791</td>\n      <td>-0.230540</td>\n      <td>0.040835</td>\n      <td>-0.300599</td>\n      <td>0.181489</td>\n      <td>-0.020803</td>\n      <td>0.072527</td>\n      <td>0.024515</td>\n      <td>65.22</td>\n    </tr>\n    <tr>\n      <th>22743</th>\n      <td>32410</td>\n      <td>0.453889</td>\n      <td>-0.593772</td>\n      <td>-0.992512</td>\n      <td>-3.223955</td>\n      <td>1.022347</td>\n      <td>3.661130</td>\n      <td>-2.344529</td>\n      <td>-1.829875</td>\n      <td>-2.364655</td>\n      <td>...</td>\n      <td>0.348539</td>\n      <td>-1.528485</td>\n      <td>-0.212184</td>\n      <td>0.050339</td>\n      <td>0.954884</td>\n      <td>0.845327</td>\n      <td>-0.313523</td>\n      <td>0.024065</td>\n      <td>0.140232</td>\n      <td>10.00</td>\n    </tr>\n    <tr>\n      <th>36715</th>\n      <td>38657</td>\n      <td>0.938707</td>\n      <td>-0.073768</td>\n      <td>1.262434</td>\n      <td>2.711881</td>\n      <td>-0.694834</td>\n      <td>0.406251</td>\n      <td>-0.391960</td>\n      <td>0.136842</td>\n      <td>0.061780</td>\n      <td>...</td>\n      <td>0.098018</td>\n      <td>-0.038799</td>\n      <td>-0.186149</td>\n      <td>-0.100430</td>\n      <td>0.043335</td>\n      <td>0.318809</td>\n      <td>-0.034418</td>\n      <td>0.024230</td>\n      <td>0.052159</td>\n      <td>110.33</td>\n    </tr>\n    <tr>\n      <th>...</th>\n      <td>...</td>\n      <td>...</td>\n      <td>...</td>\n      <td>...</td>\n      <td>...</td>\n      <td>...</td>\n      <td>...</td>\n      <td>...</td>\n      <td>...</td>\n      <td>...</td>\n      <td>...</td>\n      <td>...</td>\n      <td>...</td>\n      <td>...</td>\n      <td>...</td>\n      <td>...</td>\n      <td>...</td>\n      <td>...</td>\n      <td>...</td>\n      <td>...</td>\n      <td>...</td>\n    </tr>\n    <tr>\n      <th>63421</th>\n      <td>50706</td>\n      <td>-8.461845</td>\n      <td>6.866198</td>\n      <td>-11.838269</td>\n      <td>4.194211</td>\n      <td>-6.923097</td>\n      <td>-3.221147</td>\n      <td>-7.553497</td>\n      <td>6.015618</td>\n      <td>-2.466143</td>\n      <td>...</td>\n      <td>0.814710</td>\n      <td>0.918244</td>\n      <td>-0.715366</td>\n      <td>0.210747</td>\n      <td>-0.060211</td>\n      <td>0.509535</td>\n      <td>-0.257284</td>\n      <td>1.170027</td>\n      <td>0.229301</td>\n      <td>99.99</td>\n    </tr>\n    <tr>\n      <th>63634</th>\n      <td>50808</td>\n      <td>-9.169790</td>\n      <td>7.092197</td>\n      <td>-12.354037</td>\n      <td>4.243069</td>\n      <td>-7.176438</td>\n      <td>-3.386618</td>\n      <td>-8.058012</td>\n      <td>6.442909</td>\n      <td>-2.412987</td>\n      <td>...</td>\n      <td>0.816652</td>\n      <td>0.926157</td>\n      <td>-0.817706</td>\n      <td>-0.150434</td>\n      <td>-0.039383</td>\n      <td>0.485640</td>\n      <td>-0.264325</td>\n      <td>1.159690</td>\n      <td>0.232758</td>\n      <td>99.99</td>\n    </tr>\n    <tr>\n      <th>64329</th>\n      <td>51112</td>\n      <td>-9.848776</td>\n      <td>7.365546</td>\n      <td>-12.898538</td>\n      <td>4.273323</td>\n      <td>-7.611991</td>\n      <td>-3.427045</td>\n      <td>-8.350808</td>\n      <td>6.863604</td>\n      <td>-2.387567</td>\n      <td>...</td>\n      <td>0.832398</td>\n      <td>0.931958</td>\n      <td>-0.874467</td>\n      <td>-0.192639</td>\n      <td>-0.035426</td>\n      <td>0.538665</td>\n      <td>-0.263934</td>\n      <td>1.134095</td>\n      <td>0.225973</td>\n      <td>99.99</td>\n    </tr>\n    <tr>\n      <th>64411</th>\n      <td>51135</td>\n      <td>-10.527304</td>\n      <td>7.639745</td>\n      <td>-13.443115</td>\n      <td>4.303403</td>\n      <td>-8.048210</td>\n      <td>-3.466997</td>\n      <td>-8.643193</td>\n      <td>7.284105</td>\n      <td>-2.362097</td>\n      <td>...</td>\n      <td>0.847085</td>\n      <td>0.937416</td>\n      <td>-0.931178</td>\n      <td>-0.235697</td>\n      <td>-0.031393</td>\n      <td>0.591558</td>\n      <td>-0.263516</td>\n      <td>1.108897</td>\n      <td>0.219021</td>\n      <td>99.99</td>\n    </tr>\n    <tr>\n      <th>64460</th>\n      <td>51155</td>\n      <td>-11.205461</td>\n      <td>7.914633</td>\n      <td>-13.987752</td>\n      <td>4.333341</td>\n      <td>-8.484970</td>\n      <td>-3.506561</td>\n      <td>-8.935243</td>\n      <td>7.704449</td>\n      <td>-2.336584</td>\n      <td>...</td>\n      <td>0.860912</td>\n      <td>0.942593</td>\n      <td>-0.987848</td>\n      <td>-0.279446</td>\n      <td>-0.027299</td>\n      <td>0.644344</td>\n      <td>-0.263078</td>\n      <td>1.084023</td>\n      <td>0.211933</td>\n      <td>99.99</td>\n    </tr>\n  </tbody>\n</table>\n<p>661 rows × 30 columns</p>\n</div>"
          },
          "metadata": {}
        }
      ],
      "execution_count": 19
    },
    {
      "cell_type": "code",
      "source": "Y",
      "metadata": {
        "trusted": true
      },
      "outputs": [
        {
          "execution_count": 20,
          "output_type": "execute_result",
          "data": {
            "text/plain": "34344    0.0\n63488    0.0\n54000    0.0\n22743    0.0\n36715    0.0\n        ... \n63421    1.0\n63634    1.0\n64329    1.0\n64411    1.0\n64460    1.0\nName: Class, Length: 661, dtype: float64"
          },
          "metadata": {}
        }
      ],
      "execution_count": 20
    },
    {
      "cell_type": "code",
      "source": "X_train, X_test, Y_train, Y_test = train_test_split(X, Y, test_size=0.2, stratify=Y, random_state=2)",
      "metadata": {
        "trusted": true
      },
      "outputs": [],
      "execution_count": 21
    },
    {
      "cell_type": "code",
      "source": "print(X.shape, X_train.shape, X_test.shape)",
      "metadata": {
        "trusted": true
      },
      "outputs": [
        {
          "name": "stdout",
          "text": "(661, 30) (528, 30) (133, 30)\n",
          "output_type": "stream"
        }
      ],
      "execution_count": 22
    },
    {
      "cell_type": "code",
      "source": "# Model building using logistic regression\nmodel = LogisticRegression()",
      "metadata": {
        "trusted": true
      },
      "outputs": [],
      "execution_count": 23
    },
    {
      "cell_type": "code",
      "source": "# training the Logistic Regression Model with Training Data\nmodel.fit(X_train, Y_train)",
      "metadata": {
        "trusted": true
      },
      "outputs": [
        {
          "execution_count": 24,
          "output_type": "execute_result",
          "data": {
            "text/plain": "LogisticRegression()",
            "text/html": "<style>#sk-container-id-1 {color: black;}#sk-container-id-1 pre{padding: 0;}#sk-container-id-1 div.sk-toggleable {background-color: white;}#sk-container-id-1 label.sk-toggleable__label {cursor: pointer;display: block;width: 100%;margin-bottom: 0;padding: 0.3em;box-sizing: border-box;text-align: center;}#sk-container-id-1 label.sk-toggleable__label-arrow:before {content: \"▸\";float: left;margin-right: 0.25em;color: #696969;}#sk-container-id-1 label.sk-toggleable__label-arrow:hover:before {color: black;}#sk-container-id-1 div.sk-estimator:hover label.sk-toggleable__label-arrow:before {color: black;}#sk-container-id-1 div.sk-toggleable__content {max-height: 0;max-width: 0;overflow: hidden;text-align: left;background-color: #f0f8ff;}#sk-container-id-1 div.sk-toggleable__content pre {margin: 0.2em;color: black;border-radius: 0.25em;background-color: #f0f8ff;}#sk-container-id-1 input.sk-toggleable__control:checked~div.sk-toggleable__content {max-height: 200px;max-width: 100%;overflow: auto;}#sk-container-id-1 input.sk-toggleable__control:checked~label.sk-toggleable__label-arrow:before {content: \"▾\";}#sk-container-id-1 div.sk-estimator input.sk-toggleable__control:checked~label.sk-toggleable__label {background-color: #d4ebff;}#sk-container-id-1 div.sk-label input.sk-toggleable__control:checked~label.sk-toggleable__label {background-color: #d4ebff;}#sk-container-id-1 input.sk-hidden--visually {border: 0;clip: rect(1px 1px 1px 1px);clip: rect(1px, 1px, 1px, 1px);height: 1px;margin: -1px;overflow: hidden;padding: 0;position: absolute;width: 1px;}#sk-container-id-1 div.sk-estimator {font-family: monospace;background-color: #f0f8ff;border: 1px dotted black;border-radius: 0.25em;box-sizing: border-box;margin-bottom: 0.5em;}#sk-container-id-1 div.sk-estimator:hover {background-color: #d4ebff;}#sk-container-id-1 div.sk-parallel-item::after {content: \"\";width: 100%;border-bottom: 1px solid gray;flex-grow: 1;}#sk-container-id-1 div.sk-label:hover label.sk-toggleable__label {background-color: #d4ebff;}#sk-container-id-1 div.sk-serial::before {content: \"\";position: absolute;border-left: 1px solid gray;box-sizing: border-box;top: 0;bottom: 0;left: 50%;z-index: 0;}#sk-container-id-1 div.sk-serial {display: flex;flex-direction: column;align-items: center;background-color: white;padding-right: 0.2em;padding-left: 0.2em;position: relative;}#sk-container-id-1 div.sk-item {position: relative;z-index: 1;}#sk-container-id-1 div.sk-parallel {display: flex;align-items: stretch;justify-content: center;background-color: white;position: relative;}#sk-container-id-1 div.sk-item::before, #sk-container-id-1 div.sk-parallel-item::before {content: \"\";position: absolute;border-left: 1px solid gray;box-sizing: border-box;top: 0;bottom: 0;left: 50%;z-index: -1;}#sk-container-id-1 div.sk-parallel-item {display: flex;flex-direction: column;z-index: 1;position: relative;background-color: white;}#sk-container-id-1 div.sk-parallel-item:first-child::after {align-self: flex-end;width: 50%;}#sk-container-id-1 div.sk-parallel-item:last-child::after {align-self: flex-start;width: 50%;}#sk-container-id-1 div.sk-parallel-item:only-child::after {width: 0;}#sk-container-id-1 div.sk-dashed-wrapped {border: 1px dashed gray;margin: 0 0.4em 0.5em 0.4em;box-sizing: border-box;padding-bottom: 0.4em;background-color: white;}#sk-container-id-1 div.sk-label label {font-family: monospace;font-weight: bold;display: inline-block;line-height: 1.2em;}#sk-container-id-1 div.sk-label-container {text-align: center;}#sk-container-id-1 div.sk-container {/* jupyter's `normalize.less` sets `[hidden] { display: none; }` but bootstrap.min.css set `[hidden] { display: none !important; }` so we also need the `!important` here to be able to override the default hidden behavior on the sphinx rendered scikit-learn.org. See: https://github.com/scikit-learn/scikit-learn/issues/21755 */display: inline-block !important;position: relative;}#sk-container-id-1 div.sk-text-repr-fallback {display: none;}</style><div id=\"sk-container-id-1\" class=\"sk-top-container\"><div class=\"sk-text-repr-fallback\"><pre>LogisticRegression()</pre><b>In a Jupyter environment, please rerun this cell to show the HTML representation or trust the notebook. <br />On GitHub, the HTML representation is unable to render, please try loading this page with nbviewer.org.</b></div><div class=\"sk-container\" hidden><div class=\"sk-item\"><div class=\"sk-estimator sk-toggleable\"><input class=\"sk-toggleable__control sk-hidden--visually\" id=\"sk-estimator-id-1\" type=\"checkbox\" checked><label for=\"sk-estimator-id-1\" class=\"sk-toggleable__label sk-toggleable__label-arrow\">LogisticRegression</label><div class=\"sk-toggleable__content\"><pre>LogisticRegression()</pre></div></div></div></div></div>"
          },
          "metadata": {}
        }
      ],
      "execution_count": 24
    },
    {
      "cell_type": "code",
      "source": "# Model evaluation\n# accuracy on training data\nX_train_prediction = model.predict(X_train)\ntraining_data_accuracy = accuracy_score(X_train_prediction, Y_train)",
      "metadata": {
        "trusted": true
      },
      "outputs": [],
      "execution_count": 25
    },
    {
      "cell_type": "code",
      "source": "print('Accuracy on Training data : ', training_data_accuracy)",
      "metadata": {
        "trusted": true
      },
      "outputs": [
        {
          "name": "stdout",
          "text": "Accuracy on Training data :  0.9696969696969697\n",
          "output_type": "stream"
        }
      ],
      "execution_count": 26
    },
    {
      "cell_type": "code",
      "source": "# accuracy on test data\nX_test_prediction = model.predict(X_test)\ntest_data_accuracy = accuracy_score(X_test_prediction, Y_test)",
      "metadata": {
        "trusted": true
      },
      "outputs": [],
      "execution_count": 27
    },
    {
      "cell_type": "code",
      "source": "print('Accuracy score on Test Data : ', test_data_accuracy)",
      "metadata": {
        "trusted": true
      },
      "outputs": [
        {
          "name": "stdout",
          "text": "Accuracy score on Test Data :  0.9548872180451128\n",
          "output_type": "stream"
        }
      ],
      "execution_count": 28
    },
    {
      "cell_type": "code",
      "source": "",
      "metadata": {
        "trusted": true
      },
      "outputs": [],
      "execution_count": null
    }
  ]
}